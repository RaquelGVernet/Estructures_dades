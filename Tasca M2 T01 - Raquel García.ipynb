{
 "cells": [
  {
   "cell_type": "markdown",
   "id": "d0a1dbd9",
   "metadata": {},
   "source": [
    "## Tasca M2 T01 - Raquel García\n",
    "\n",
    "En esta Jupyter Notebook se adjunta la resolución de la Tasca M2 (T01). En cada celda se responde una pregunta concreta, para facilitar el seguimiento de las distintas respuestas."
   ]
  },
  {
   "cell_type": "markdown",
   "id": "212894a8",
   "metadata": {},
   "source": [
    "### EJERCICIO 1 y 2"
   ]
  },
  {
   "cell_type": "code",
   "execution_count": 1,
   "id": "f254bf66",
   "metadata": {},
   "outputs": [
    {
     "name": "stdout",
     "output_type": "stream",
     "text": [
      "[['Gener', 'Febrer', 'Març'], ['Abril', 'Maig', 'Juny'], ['Juliol', 'Agost', 'Setembre'], ['Octubre', 'Novembre', 'Desembre']]\n"
     ]
    },
    {
     "data": {
      "text/plain": [
       "list"
      ]
     },
     "execution_count": 1,
     "metadata": {},
     "output_type": "execute_result"
    }
   ],
   "source": [
    "#Crea una llista que agrupi els mesos de l’any en trimestres (1T: gener, febrer i març; 2T: abril, maig, juny...), és a dir, \n",
    "#una llista amb 4 llistes dins.\n",
    "\n",
    "Trimestres = [[\"Gener\", \"Febrer\", \"Març\"], [\"Abril\", \"Maig\", \"Juny\"],[\"Juliol\", \"Agost\", \"Setembre\"], [\"Octubre\", \"Novembre\", \"Desembre\"]]\n",
    "\n",
    "print(Trimestres)\n",
    "type(Trimestres)"
   ]
  },
  {
   "cell_type": "code",
   "execution_count": 3,
   "id": "b36ae11e",
   "metadata": {},
   "outputs": [
    {
     "name": "stdout",
     "output_type": "stream",
     "text": [
      "Febrer\n"
     ]
    }
   ],
   "source": [
    "#Crea un codi que et permeti accedir a:\n",
    "#El segon mes del primer trimestre.\n",
    "\n",
    "print(Trimestres[0][1]) #Recordar que python tiene una indexación basada en 0. Por lo tanto, la primera lista es la lista 0\n",
    "                        #Extraemos un item concreto - La primera parte referencia la lista, la segunda el item\n"
   ]
  },
  {
   "cell_type": "code",
   "execution_count": 4,
   "id": "cee2f5f3",
   "metadata": {},
   "outputs": [
    {
     "name": "stdout",
     "output_type": "stream",
     "text": [
      "['Gener', 'Febrer', 'Març']\n"
     ]
    }
   ],
   "source": [
    "#Crea un codi que et permeti accedir a:\n",
    "#Els mesos del primer trimestre.\n",
    "\n",
    "print(Trimestres[0]) #Extraemos una de las listas enteras "
   ]
  },
  {
   "cell_type": "code",
   "execution_count": 5,
   "id": "83321600",
   "metadata": {},
   "outputs": [
    {
     "name": "stdout",
     "output_type": "stream",
     "text": [
      "Setembre Octubre\n",
      "['Setembre', 'Octubre']\n"
     ]
    },
    {
     "data": {
      "text/plain": [
       "True"
      ]
     },
     "execution_count": 5,
     "metadata": {},
     "output_type": "execute_result"
    }
   ],
   "source": [
    "#Crea un codi que et permeti accedir a:\n",
    "#Setembre i octubre.\n",
    "\n",
    "print(Trimestres[2][2], Trimestres[3][0]) #Aquí printeamos los meses de septiembre y octubre\n",
    "\n",
    "Otoño = [Trimestres[2][2], Trimestres[3][0]] #Si lo que queremos es juntarlos en una nueva lista, usaremos este cófigo\n",
    "print(Otoño)\n",
    "\n",
    "#Y si lo que queremos es mirar si en una \"nested list\" tenemos un mes en concreto, como por ejemplo Septiembre, usaremos:\n",
    "any ('Setembre' in sl for sl in Trimestres)\n"
   ]
  },
  {
   "cell_type": "markdown",
   "id": "6933e2bc",
   "metadata": {},
   "source": [
    "### EJERCICIO 3"
   ]
  },
  {
   "cell_type": "code",
   "execution_count": 6,
   "id": "f1efab73",
   "metadata": {},
   "outputs": [
    {
     "name": "stdout",
     "output_type": "stream",
     "text": [
      "[2, 9, 1, 4, 1, 7, 7, 7, 10, 6, 3, 1, 7, 0, 6, 6, 9, 0, 7, 4]\n",
      "20\n"
     ]
    }
   ],
   "source": [
    "#Crea una llista amb nombres desordenats i respon a les següents preguntes:\n",
    "#Quants números hi ha?\n",
    "\n",
    "import random\n",
    "random.seed(1) #fijo una semilla para poder reproducir los resultados\n",
    "\n",
    "x=[]\n",
    "for i in range(20):\n",
    "    x.append(random.randint(0,10)) #Creo una lista de números aleatorios usando la función randint de la librería random\n",
    "\n",
    "print (x) #Me aseguro que la lista es correcta\n",
    "\n",
    "print(len(x)) #Obtengo el número de elementos de la lista, en este caso 20 (fijados en el anterior ejercicio)"
   ]
  },
  {
   "cell_type": "code",
   "execution_count": 7,
   "id": "9d2b486f",
   "metadata": {},
   "outputs": [
    {
     "name": "stdout",
     "output_type": "stream",
     "text": [
      "1\n"
     ]
    }
   ],
   "source": [
    "#Quantes vegades apareix el número 3.\n",
    "\n",
    "print(x.count(3)) #Cuento el número de veces que aparece el número 3, en este caso 1 vez"
   ]
  },
  {
   "cell_type": "code",
   "execution_count": 8,
   "id": "10c62ee1",
   "metadata": {},
   "outputs": [
    {
     "name": "stdout",
     "output_type": "stream",
     "text": [
      "3\n"
     ]
    }
   ],
   "source": [
    "#Quantes vegades apareixen els nombres 3 i 4?\n",
    "\n",
    "print(x.count(3)+x.count(4)) #Cuento el número de veces que aparecen el número 3 y el número 4, en este caso 3"
   ]
  },
  {
   "cell_type": "code",
   "execution_count": 9,
   "id": "947d8e71",
   "metadata": {},
   "outputs": [
    {
     "name": "stdout",
     "output_type": "stream",
     "text": [
      "10\n"
     ]
    }
   ],
   "source": [
    "#Quin és el número més gran?\n",
    "\n",
    "print(max(x)) #Imprimo el número máximo que contiene la lista, en este caso 10"
   ]
  },
  {
   "cell_type": "code",
   "execution_count": 10,
   "id": "e0b88b41",
   "metadata": {},
   "outputs": [
    {
     "name": "stdout",
     "output_type": "stream",
     "text": [
      "[0, 0, 1]\n",
      "[0, 1, 2]\n"
     ]
    }
   ],
   "source": [
    "#Quins són els 3 números més petits?\n",
    "\n",
    "print(sorted(x)[:3]) #Imprimo los números mínimos de la lista. El problema viene si tenemos números repetidos dentro, como es el\n",
    "                     #caso! \n",
    "                     #Para solucionar esto, he programado una función que encuentra mínimos no repetidos en una lista:\n",
    "    \n",
    "#Defino una función sencilla. Pedirá introducir dos parámetros, una lista (x) y el número de mínimos a extraer (numin) \n",
    "\n",
    "def minimos3(x,numin):\n",
    "    truemin=[min(x)]\n",
    "    a=sorted(x)\n",
    "    for i in range(len(a)):\n",
    "        if a[i] not in truemin:\n",
    "            truemin.append(a[i])\n",
    "        if len(truemin) == numin:\n",
    "            break\n",
    "        else:\n",
    "            continue\n",
    "    return truemin\n",
    "\n",
    "print(minimos3(x,3)) #Como puede verse, en este caso el output pasa a ser 0, 1 y 2, deshaciéndonos así de las medidas repetidas\n",
    "\n",
    "#Habría otras maneras de hacerlo sin utilizar \"sorted\", pero esta ha sido de las más sencillas que se me han ocurrido\n"
   ]
  },
  {
   "cell_type": "code",
   "execution_count": 11,
   "id": "1af3d4ad",
   "metadata": {},
   "outputs": [
    {
     "name": "stdout",
     "output_type": "stream",
     "text": [
      "10\n"
     ]
    }
   ],
   "source": [
    "#Quin és el rang de la llista?\n",
    "\n",
    "print(max(x)-min(x)) #rango de la lista x"
   ]
  },
  {
   "cell_type": "markdown",
   "id": "4d7212be",
   "metadata": {},
   "source": [
    "### EJERCICIO 4"
   ]
  },
  {
   "cell_type": "code",
   "execution_count": 14,
   "id": "1741db00",
   "metadata": {},
   "outputs": [
    {
     "name": "stdout",
     "output_type": "stream",
     "text": [
      "{'Pomes': {'Qty': 5, '€': 0.42}, 'Peres': {'Qty': 3, '€': 0.66}, 'Maduixes': {'Qty': 20, '€': 0.12}}\n"
     ]
    }
   ],
   "source": [
    "#Crea un diccionari de la següent forma i respon a les preguntes:\n",
    "#compra = { \"Pomes\" : {\"Qty\": 5, \"€\": 0.42}, \"Peres\" : {\"Qty\": 3, \"€\": 0.66} }\n",
    "\n",
    "#Afegeix alguna fruita més\n",
    "\n",
    "\n",
    "compra = { \"Pomes\" : {\"Qty\": 5, \"€\": 0.42}, \"Peres\" : {\"Qty\": 3, \"€\": 0.66} }\n",
    "\n",
    "compra[\"Maduixes\"] = {\"Qty\": 20, \"€\": 0.12}\n",
    "print(compra) #He añadido la fruta Maduixes"
   ]
  },
  {
   "cell_type": "code",
   "execution_count": 15,
   "id": "15071544",
   "metadata": {},
   "outputs": [
    {
     "name": "stdout",
     "output_type": "stream",
     "text": [
      "1.98\n"
     ]
    }
   ],
   "source": [
    "#Quant han costat les peres en total?\n",
    "\n",
    "print(compra[\"Peres\"][\"€\"]*compra[\"Peres\"][\"Qty\"]) \n",
    "\n",
    "#Miro el coste de las peras. Como es un diccionario \"nested\", debo entrar primero a la entrada \"Peres\". Lo multiplico por \n",
    "#las unidades (entiendo que con \"€\" se refiere al precio por unidad)\n"
   ]
  },
  {
   "cell_type": "code",
   "execution_count": 16,
   "id": "bb3f0ed1",
   "metadata": {},
   "outputs": [
    {
     "name": "stdout",
     "output_type": "stream",
     "text": [
      "28\n"
     ]
    }
   ],
   "source": [
    "#Quantes fruites hem comprat en total?\n",
    "\n",
    "a=0\n",
    "for x in compra:\n",
    "    a+=(compra[x][\"Qty\"])\n",
    "print(a) #Sumo las cantidades de todas las entradas del diccionario"
   ]
  },
  {
   "cell_type": "code",
   "execution_count": 32,
   "id": "4315f156",
   "metadata": {},
   "outputs": [
    {
     "name": "stdout",
     "output_type": "stream",
     "text": [
      "0.66\n",
      "Peres\n"
     ]
    }
   ],
   "source": [
    "#Quina és la fruita més cara?\n",
    "\n",
    "a=max((i['€']) for i in compra.values()) #Obtengo el máximo para todos los valores\n",
    "print(a)\n",
    "\n",
    "#Si ahora quisiéramos saber el nombre de la fruta, podríamos hacer:\n",
    "\n",
    "for x in compra:\n",
    "    if compra[x][\"€\"] == a:\n",
    "        print (x)\n"
   ]
  }
 ],
 "metadata": {
  "kernelspec": {
   "display_name": "Python 3 (ipykernel)",
   "language": "python",
   "name": "python3"
  },
  "language_info": {
   "codemirror_mode": {
    "name": "ipython",
    "version": 3
   },
   "file_extension": ".py",
   "mimetype": "text/x-python",
   "name": "python",
   "nbconvert_exporter": "python",
   "pygments_lexer": "ipython3",
   "version": "3.9.12"
  }
 },
 "nbformat": 4,
 "nbformat_minor": 5
}
